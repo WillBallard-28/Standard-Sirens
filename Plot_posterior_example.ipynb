{
 "cells": [
  {
   "cell_type": "code",
   "execution_count": 1,
   "metadata": {
    "ExecuteTime": {
     "end_time": "2022-07-15T03:46:34.175857Z",
     "start_time": "2022-07-15T03:46:26.774635Z"
    },
    "tags": []
   },
   "outputs": [],
   "source": [
    "from astropy.io import fits\n",
    "import numpy as np\n",
    "%matplotlib inline\n",
    "import matplotlib\n",
    "import matplotlib.pyplot as plt\n",
    "from scipy.signal import savgol_filter\n",
    "from scipy.integrate import simps\n",
    "from sklearn.neighbors import KernelDensity\n",
    "import arviz as az\n",
    "import glob"
   ]
  },
  {
   "cell_type": "code",
   "execution_count": 2,
   "metadata": {
    "ExecuteTime": {
     "end_time": "2022-07-15T04:51:08.803241Z",
     "start_time": "2022-07-15T04:51:08.781822Z"
    },
    "tags": []
   },
   "outputs": [],
   "source": [
    "def plt_style():\n",
    "    plt.rcParams.update({\n",
    "                        'lines.linewidth':1.0,\n",
    "                        'lines.linestyle':'-',\n",
    "                        'lines.color':'black',\n",
    "                        'font.family':'serif',\n",
    "                        'font.weight':'normal',\n",
    "                        'font.size':13.0,\n",
    "                        'text.color':'black',\n",
    "                        'text.usetex':True,\n",
    "                        'axes.edgecolor':'black',\n",
    "                        'axes.linewidth':1.0,\n",
    "                        'axes.grid':False,\n",
    "                        'axes.titlesize':'x-large',\n",
    "                        'axes.labelsize':'x-large',\n",
    "                        'axes.labelweight':'normal',\n",
    "                        'axes.labelcolor':'black',\n",
    "                        'axes.formatter.limits':[-4,4],\n",
    "                        'xtick.major.size':7,\n",
    "                        'xtick.minor.size':4,\n",
    "                        'xtick.major.pad':8,\n",
    "                        'xtick.minor.pad':8,\n",
    "                        'xtick.labelsize':'medium',\n",
    "                        'xtick.minor.width':1.0,\n",
    "                        'xtick.major.width':1.0,\n",
    "                        'ytick.major.size':7,\n",
    "                        'ytick.minor.size':4,\n",
    "                        'ytick.major.pad':8,\n",
    "                        'ytick.minor.pad':8,\n",
    "                        'ytick.labelsize':'medium',\n",
    "                        'ytick.minor.width':1.0,\n",
    "                        'ytick.major.width':1.0,\n",
    "                        'legend.numpoints':1,\n",
    "                        #'legend.fontsize':'x-large',\n",
    "                        'legend.shadow':False,\n",
    "                        'legend.frameon':False})\n",
    "\n",
    "\n",
    "# These are the \"Tableau 20\" colors as RGB.\n",
    "tableau20 = [(31, 119, 180), (174, 199, 232), (255, 127, 14), (255, 187, 120),\n",
    "             (44, 160, 44), (152, 223, 138), (214, 39, 40), (255, 152, 150),\n",
    "             (148, 103, 189), (197, 176, 213), (140, 86, 75), (196, 156, 148),\n",
    "             (227, 119, 194), (247, 182, 210), (127, 127, 127), (199, 199, 199),\n",
    "             (188, 189, 34), (219, 219, 141), (23, 190, 207), (158, 218, 229)]\n",
    "\n",
    "# Scale the RGB values to the [0, 1] range, which is the format matplotlib accepts.\n",
    "for i in range(len(tableau20)):\n",
    "    r, g, b = tableau20[i]\n",
    "    tableau20[i] = (r / 255., g / 255., b / 255.)\n",
    "    \n",
    "# Tableau Color Blind 10\n",
    "tableau20blind = [(0, 107, 164), (255, 128, 14), (171, 171, 171), (89, 89, 89),\n",
    "             (95, 158, 209), (200, 82, 0), (137, 137, 137), (163, 200, 236),\n",
    "             (255, 188, 121), (207, 207, 207)]\n",
    "  \n",
    "for i in range(len(tableau20blind)):  \n",
    "    r, g, b = tableau20blind[i]  \n",
    "    tableau20blind[i] = (r / 255., g / 255., b / 255.)\n",
    "\n",
    "\n"
   ]
  },
  {
   "cell_type": "code",
   "execution_count": 3,
   "metadata": {
    "ExecuteTime": {
     "end_time": "2022-07-15T04:51:12.054094Z",
     "start_time": "2022-07-15T04:51:12.035982Z"
    },
    "tags": []
   },
   "outputs": [],
   "source": [
    "from scipy import interpolate\n",
    "\n",
    "#Define number of H0 bins\n",
    "nh0bins = 500\n",
    "edg=np.linspace(20,140,num=nh0bins)\n",
    "\n",
    "\n",
    "def cl_range(x,post,cl=0.68):\n",
    "    edg=np.linspace(20,140,num=nh0bins)\n",
    "    interp=interpolate.interp1d(x, post,fill_value=\"extrapolate\")\n",
    "    mypost=interp(edg)\n",
    "    \n",
    "    cdf=np.cumsum(mypost)\n",
    "    cdf /= cdf[-1]\n",
    "    # extapolation is almost certainly wrong, but is useful to see why it fails\n",
    "    interp=interpolate.interp1d(cdf,edg, fill_value=\"extrapolate\")\n",
    "    l = (1.0-cl)*0.5\n",
    "    u = 1.0-l\n",
    "    lower = interp(l)\n",
    "    upper = interp(u) #[()]\n",
    "    peak = edg[np.argmax(mypost)]\n",
    "    \n",
    "    return peak, upper, lower # upper_err, lower_err\n",
    "\n",
    "def find_nearest(array, value):\n",
    "    array = np.asarray(array)\n",
    "    idx = (np.abs(array - value)).argmin()\n",
    "    return idx"
   ]
  },
  {
   "cell_type": "code",
   "execution_count": 4,
   "metadata": {
    "tags": []
   },
   "outputs": [],
   "source": [
    "#Work w LVC posterior\n",
    "\n",
    "l = np.genfromtxt('LVC_posterior_GW170817.txt')\n",
    "lhist, xedges = np.histogram(l,bins=nh0bins,density=True)\n",
    "lhat_old = savgol_filter(lhist, 51, 3)\n",
    "\n",
    "\n",
    "lhat = lhat_old*xedges[:-1]\n",
    "\n",
    "norm = simps(lhat,xedges[:-1])\n",
    "\n",
    "lhat = lhat /norm"
   ]
  },
  {
   "cell_type": "code",
   "execution_count": 5,
   "metadata": {
    "ExecuteTime": {
     "end_time": "2022-07-15T04:51:34.033129Z",
     "start_time": "2022-07-15T04:51:34.013197Z"
    },
    "tags": []
   },
   "outputs": [],
   "source": [
    "#Compute as asked by the IRs\n",
    "\n",
    "\n",
    "def cl_around_mode(myedg,mypr):\n",
    "\n",
    "    edg=np.linspace(20,140,num=nh0bins)\n",
    "    interp=interpolate.interp1d(myedg, mypr,fill_value=\"extrapolate\")\n",
    "    myprob=interp(edg)\n",
    "\n",
    "    peak = edg[np.argmax(myprob)]\n",
    "    idx_sort_up=np.argsort(myprob)[::-1]\n",
    "    #print(idx_sort_up)\n",
    "    #norm = simps(lhat_cn,xedges_cn[:-1])\n",
    "    i=0\n",
    "    bins=[]\n",
    "    integr=0.\n",
    "\n",
    "    maxh0=100.\n",
    "    b_num_max=np.where(edg>maxh0)[0].min()\n",
    "\n",
    "    bmax=idx_sort_up[0]\n",
    "\n",
    "    while(bmax<b_num_max):\n",
    "        if (idx_sort_up[i]<b_num_max):\n",
    "            bins.append(idx_sort_up[i])\n",
    "            bmin= min(bins)\n",
    "            bmax= max(bins)\n",
    "        else:\n",
    "            break\n",
    "        i+=1\n",
    "\n",
    "\n",
    "    while (integr<0.68):\n",
    "\n",
    "        if (myprob[bmax+1]>myprob[bmin-1]):\n",
    "            #print(\"Adding \",bmax_lo+1)\n",
    "            bmax = bmax+1\n",
    "            bmin = bmin\n",
    "            #bins_now_good = np.append(bins_now_good,\n",
    "            bins.append(bmax+1)\n",
    "        else:\n",
    "            #print(\"Adding \",bmin-1)\n",
    "            bmin = bmin-1\n",
    "            bmax = bmax\n",
    "            bins.append(bmin-1)\n",
    "        integr = simps(myprob[bmin:bmax],edg[bmin:bmax])\n",
    "\n",
    "    print(integr, edg[bmin], edg[bmax])\n",
    "    \n",
    "    return  edg[bmin], edg[bmax]\n",
    "\n",
    "    "
   ]
  },
  {
   "cell_type": "code",
   "execution_count": 6,
   "metadata": {
    "tags": []
   },
   "outputs": [],
   "source": [
    "\n",
    "#Constantina's samples\n",
    "\n",
    "#l = np.genfromtxt('/Users/palmese/work/GW/Dark_sirens/plots/LVC_posterior_GW170817.txt')\n",
    "cn=np.genfromtxt('GW170817_constantina_model2_flatH0prior20_140.txt')\n",
    "\n",
    "lhist_cn, xedges_cn = np.histogram(cn,bins=2000,density=True)\n",
    "lhat_old_cn = savgol_filter(lhist_cn, 51, 3)\n",
    "\n",
    "lhat_cn = lhat_old_cn*xedges_cn[:-1]\n",
    "\n",
    "norm_cn = simps(lhat_cn,xedges_cn[:-1])\n",
    "\n",
    "lhat_cn = lhat_cn /norm_cn\n",
    "\n",
    "X_plot=np.linspace(20,140,num=nh0bins)\n",
    "\n",
    "kde = KernelDensity(kernel='gaussian', bandwidth=0.75).fit(cn[:,None])\n",
    "log_dens = kde.score_samples(X_plot[:, np.newaxis])\n"
   ]
  },
  {
   "cell_type": "code",
   "execution_count": 7,
   "metadata": {
    "tags": []
   },
   "outputs": [
    {
     "name": "stdout",
     "output_type": "stream",
     "text": [
      "70.50100200400801 21.80624137480561 6.255655864785126\n",
      "170817 HPD:  68.81763527054107 17.29878816192155 7.638243176275893\n"
     ]
    },
    {
     "data": {
      "image/png": "[encoded data removed]",
      "text/plain": [
       "<Figure size 640x480 with 1 Axes>"
      ]
     },
     "metadata": {},
     "output_type": "display_data"
    }
   ],
   "source": [
    "plt.clf()\n",
    "\n",
    "\n",
    "\n",
    "#Combined w 170817\n",
    "use_lvc=True\n",
    "if use_lvc:\n",
    "    \n",
    "    plt.fill_between(xedges[:-1],np.zeros(xedges[:-1].shape[0]),lhat/3.8,color='k',alpha=0.07)\n",
    "    \n",
    "    #Remake 170817 interval\n",
    "\n",
    "    color='k'\n",
    "    factor=3.8\n",
    "    p_max, p_hi, p_lo = cl_range(xedges[:-1],lhat)\n",
    "    px_max = find_nearest(xedges[:-1],p_max)\n",
    "    px_hi = find_nearest(xedges[:-1],p_hi)\n",
    "    px_lo = find_nearest(xedges[:-1],p_lo)\n",
    "    plt.plot([200,200],[0,0],c=color,zorder=100,alpha=0.2,lw=2, label='GW170817 LVC')\n",
    "    plt.plot([p_lo,p_lo],[0,lhat[px_lo]/factor], '--',c=color,zorder=50,alpha=0.2)\n",
    "    plt.plot([p_hi,p_hi],[0,lhat[px_hi]/factor], '--',c=color,zorder=50,alpha=0.2)\n",
    "    print(p_max,p_hi-p_max, p_max-p_lo)\n",
    "    \n",
    "\n",
    "    #Now Constantina's \n",
    "\n",
    "    factor=3.\n",
    "    plt.fill_between(X_plot,np.zeros(X_plot.shape[0]), np.exp(log_dens)/factor,color='k',alpha=0.07)\n",
    "    cn_lo,cn_hi = az.hdi(cn, hdi_prob=0.68)\n",
    "    px_hi = find_nearest(X_plot,cn_hi)\n",
    "    px_lo = find_nearest(X_plot,cn_lo)\n",
    "    plt.plot([200,200],[0,0],'--',c='k',zorder=100,alpha=0.4, label='GW170817 N21')\n",
    "    plt.plot([cn_lo,cn_lo],[0,np.exp(log_dens[px_lo])/factor], '--',c='k',zorder=100,alpha=0.2)\n",
    "    plt.plot([cn_hi,cn_hi],[0,np.exp(log_dens[px_hi])/factor], '--',c='k',zorder=100,alpha=0.2)\n",
    "    p17_max, p17_hi, p17_lo = cl_range(X_plot,np.exp(log_dens))\n",
    "    #print(\"170817 ETI: \",p17_lo,p17_hi,p17_max,p17_hi-p17_max, p17_max-p17_lo)\n",
    "    print(\"170817 HPD: \",p17_max,cn_hi-p17_max, p17_max-cn_lo)\n",
    "\n",
    "\n",
    "\n",
    "factor=3.\n",
    "plt.plot(X_plot, np.exp(log_dens)/factor,'--',color='k',alpha=0.5)\n",
    "p17_max, p17_hi, p17_lo = cl_range(edg,np.exp(log_dens))\n",
    "px_hi = find_nearest(edg,p17_hi)\n",
    "px_lo = find_nearest(edg,p17_lo)\n",
    "#plt.plot([p17_lo,p17_lo],[0,np.exp(log_dens[px_lo])/factor], ':',c='k',zorder=100)\n",
    "#plt.plot([p17_hi,p17_hi],[0,np.exp(log_dens[px_hi])/factor], ':',c='k',zorder=100)\n",
    "\n",
    "\n",
    "plt.fill_between(np.array([73.2-1.3,73.2 +1.3]),np.array([0.,0.0]),np.array([0.016,0.016]), color='#0000ff',alpha=0.1,hatch=\"/\",label='R21',zorder=0)\n",
    "plt.fill_between(np.array([68.82,67.90]),np.array([0.,0.0]),np.array([0.016,0.016]), color='#0000ff',alpha=0.2,label='$Planck$',zorder=0)\n",
    "\n",
    "    \n",
    "plt.xlim(20,140)\n",
    "plt.ylim(0,0.016)\n",
    "plt.xlabel(r'$H_0~{\\rm (km ~s^{-1}~Mpc^{-1})}$')\n",
    "plt.ylabel(r'$p ~{\\rm (km^{-1} ~s~Mpc)}$')\n",
    "plt.tight_layout()\n",
    "plt.legend(loc='upper left',fontsize=10)\n",
    "plt.savefig('posteriors_170817.png',dpi=200)\n",
    "\n",
    "\n"
   ]
  },
  {
   "cell_type": "code",
   "execution_count": null,
   "metadata": {},
   "outputs": [],
   "source": []
  }
 ],
 "metadata": {
  "kernelspec": {
   "display_name": "StandardSirens",
   "language": "python",
   "name": "standard-sirens"
  },
  "language_info": {
   "codemirror_mode": {
    "name": "ipython",
    "version": 3
   },
   "file_extension": ".py",
   "mimetype": "text/x-python",
   "name": "python",
   "nbconvert_exporter": "python",
   "pygments_lexer": "ipython3",
   "version": "3.11.3"
  },
  "toc": {
   "base_numbering": 1,
   "nav_menu": {},
   "number_sections": true,
   "sideBar": true,
   "skip_h1_title": false,
   "title_cell": "Table of Contents",
   "title_sidebar": "Contents",
   "toc_cell": false,
   "toc_position": {},
   "toc_section_display": true,
   "toc_window_display": false
  }
 },
 "nbformat": 4,
 "nbformat_minor": 4
}
