{
 "cells": [
  {
   "cell_type": "code",
   "execution_count": 1,
   "metadata": {
    "colab": {
     "base_uri": "https://localhost:8080/"
    },
    "executionInfo": {
     "elapsed": 15654,
     "status": "ok",
     "timestamp": 1679954113928,
     "user": {
      "displayName": "Ignacio Magana",
      "userId": "03792128717253148259"
     },
     "user_tz": 300
    },
    "id": "aM70RgPngXtJ",
    "outputId": "4ce9a3ff-30c8-4bcb-e76f-16cecf4a1556"
   },
   "outputs": [
    {
     "name": "stdout",
     "output_type": "stream",
     "text": [
      "Mounted at /content/drive\n"
     ]
    }
   ],
   "source": [
    "from google.colab import drive\n",
    "drive.mount('/content/drive')"
   ]
  },
  {
   "cell_type": "code",
   "execution_count": 1,
   "metadata": {
    "colab": {
     "base_uri": "https://localhost:8080/"
    },
    "executionInfo": {
     "elapsed": 22251,
     "status": "ok",
     "timestamp": 1679954136176,
     "user": {
      "displayName": "Ignacio Magana",
      "userId": "03792128717253148259"
     },
     "user_tz": 300
    },
    "id": "a4U3rXawbRJQ",
    "outputId": "1cdc0133-3da1-4433-b6ea-3503e65f0888"
   },
   "outputs": [
    {
     "name": "stdout",
     "output_type": "stream",
     "text": [
      "Defaulting to user installation because normal site-packages is not writeable\n",
      "Collecting git+https://github.com/adam-coogan/jaxinterp2d.git\n",
      "  Cloning https://github.com/adam-coogan/jaxinterp2d.git to /tmp/pip-req-build-pu6b_ot6\n",
      "  Running command git clone --filter=blob:none --quiet https://github.com/adam-coogan/jaxinterp2d.git /tmp/pip-req-build-pu6b_ot6\n",
      "  Resolved https://github.com/adam-coogan/jaxinterp2d.git to commit 98810756e69ffe0162defa8815383f858c57233a\n",
      "  Installing build dependencies ... \u001b[?25ldone\n",
      "\u001b[?25h  Getting requirements to build wheel ... \u001b[?25ldone\n",
      "\u001b[?25h  Preparing metadata (pyproject.toml) ... \u001b[?25ldone\n",
      "\u001b[?25hRequirement already satisfied: jaxlib in /global/u2/w/wballard/.local/perlmutter/3.9-anaconda-2021.11/lib/python3.9/site-packages (from jaxinterp2d==0.0.1) (0.3.15+cuda11.cudnn82)\n",
      "Requirement already satisfied: jax in /global/u2/w/wballard/.local/perlmutter/3.9-anaconda-2021.11/lib/python3.9/site-packages (from jaxinterp2d==0.0.1) (0.3.15)\n",
      "Requirement already satisfied: scipy>=1.5 in /global/u2/w/wballard/.local/perlmutter/3.9-anaconda-2021.11/lib/python3.9/site-packages (from jax->jaxinterp2d==0.0.1) (1.10.1)\n",
      "Requirement already satisfied: etils[epath] in /global/u2/w/wballard/.local/perlmutter/3.9-anaconda-2021.11/lib/python3.9/site-packages (from jax->jaxinterp2d==0.0.1) (1.3.0)\n",
      "Requirement already satisfied: numpy>=1.19 in /global/common/software/nersc/pm-2022q3/sw/python/3.9-anaconda-2021.11/lib/python3.9/site-packages (from jax->jaxinterp2d==0.0.1) (1.21.5)\n",
      "Requirement already satisfied: opt-einsum in /global/u2/w/wballard/.local/perlmutter/3.9-anaconda-2021.11/lib/python3.9/site-packages (from jax->jaxinterp2d==0.0.1) (3.3.0)\n",
      "Requirement already satisfied: absl-py in /global/u2/w/wballard/.local/perlmutter/3.9-anaconda-2021.11/lib/python3.9/site-packages (from jax->jaxinterp2d==0.0.1) (1.4.0)\n",
      "Requirement already satisfied: typing-extensions in /global/common/software/nersc/pm-2022q3/sw/python/3.9-anaconda-2021.11/lib/python3.9/site-packages (from jax->jaxinterp2d==0.0.1) (4.3.0)\n",
      "Requirement already satisfied: importlib_resources in /global/u2/w/wballard/.local/perlmutter/3.9-anaconda-2021.11/lib/python3.9/site-packages (from etils[epath]->jax->jaxinterp2d==0.0.1) (5.12.0)\n",
      "Requirement already satisfied: zipp in /global/u2/w/wballard/.local/perlmutter/3.9-anaconda-2021.11/lib/python3.9/site-packages (from etils[epath]->jax->jaxinterp2d==0.0.1) (3.15.0)\n",
      "Defaulting to user installation because normal site-packages is not writeable\n",
      "Requirement already satisfied: healpy in /global/u2/w/wballard/.local/perlmutter/3.9-anaconda-2021.11/lib/python3.9/site-packages (1.16.2)\n",
      "Requirement already satisfied: scipy in /global/u2/w/wballard/.local/perlmutter/3.9-anaconda-2021.11/lib/python3.9/site-packages (from healpy) (1.10.1)\n",
      "Requirement already satisfied: astropy in /global/common/software/nersc/pm-2022q3/sw/python/3.9-anaconda-2021.11/lib/python3.9/site-packages (from healpy) (5.1)\n",
      "Requirement already satisfied: numpy>=1.13 in /global/common/software/nersc/pm-2022q3/sw/python/3.9-anaconda-2021.11/lib/python3.9/site-packages (from healpy) (1.21.5)\n",
      "Requirement already satisfied: matplotlib in /global/common/software/nersc/pm-2022q3/sw/python/3.9-anaconda-2021.11/lib/python3.9/site-packages (from healpy) (3.5.2)\n",
      "Requirement already satisfied: PyYAML>=3.13 in /global/common/software/nersc/pm-2022q3/sw/python/3.9-anaconda-2021.11/lib/python3.9/site-packages (from astropy->healpy) (6.0)\n",
      "Requirement already satisfied: packaging>=19.0 in /global/common/software/nersc/pm-2022q3/sw/python/3.9-anaconda-2021.11/lib/python3.9/site-packages (from astropy->healpy) (21.3)\n",
      "Requirement already satisfied: pyerfa>=2.0 in /global/common/software/nersc/pm-2022q3/sw/python/3.9-anaconda-2021.11/lib/python3.9/site-packages (from astropy->healpy) (2.0.0)\n",
      "Requirement already satisfied: pillow>=6.2.0 in /global/common/software/nersc/pm-2022q3/sw/python/3.9-anaconda-2021.11/lib/python3.9/site-packages (from matplotlib->healpy) (9.2.0)\n",
      "Requirement already satisfied: fonttools>=4.22.0 in /global/common/software/nersc/pm-2022q3/sw/python/3.9-anaconda-2021.11/lib/python3.9/site-packages (from matplotlib->healpy) (4.25.0)\n",
      "Requirement already satisfied: kiwisolver>=1.0.1 in /global/common/software/nersc/pm-2022q3/sw/python/3.9-anaconda-2021.11/lib/python3.9/site-packages (from matplotlib->healpy) (1.4.2)\n",
      "Requirement already satisfied: cycler>=0.10 in /global/common/software/nersc/pm-2022q3/sw/python/3.9-anaconda-2021.11/lib/python3.9/site-packages (from matplotlib->healpy) (0.11.0)\n",
      "Requirement already satisfied: pyparsing>=2.2.1 in /global/common/software/nersc/pm-2022q3/sw/python/3.9-anaconda-2021.11/lib/python3.9/site-packages (from matplotlib->healpy) (3.0.9)\n",
      "Requirement already satisfied: python-dateutil>=2.7 in /global/common/software/nersc/pm-2022q3/sw/python/3.9-anaconda-2021.11/lib/python3.9/site-packages (from matplotlib->healpy) (2.8.2)\n",
      "Requirement already satisfied: six>=1.5 in /global/common/software/nersc/pm-2022q3/sw/python/3.9-anaconda-2021.11/lib/python3.9/site-packages (from python-dateutil>=2.7->matplotlib->healpy) (1.16.0)\n"
     ]
    }
   ],
   "source": [
    "!pip install git+https://github.com/adam-coogan/jaxinterp2d.git\n",
    "!pip install healpy\n"
   ]
  },
  {
   "cell_type": "code",
   "execution_count": 1,
   "metadata": {
    "executionInfo": {
     "elapsed": 2,
     "status": "ok",
     "timestamp": 1679954833843,
     "user": {
      "displayName": "Ignacio Magana",
      "userId": "03792128717253148259"
     },
     "user_tz": 300
    },
    "id": "N86KngClr-mf"
   },
   "outputs": [],
   "source": [
    "import os\n",
    "os.environ[\"XLA_PYTHON_CLIENT_PREALLOCATE\"]=\"false\"\n",
    "os.environ[\"XLA_PYTHON_CLIENT_MEM_FRACTION\"]=\".99\"\n",
    "os.environ[\"XLA_PYTHON_CLIENT_ALLOCATOR\"]=\"platform\""
   ]
  },
  {
   "cell_type": "code",
   "execution_count": 2,
   "metadata": {
    "executionInfo": {
     "elapsed": 5906,
     "status": "ok",
     "timestamp": 1679954839747,
     "user": {
      "displayName": "Ignacio Magana",
      "userId": "03792128717253148259"
     },
     "user_tz": 300
    },
    "id": "UM247VOWZvfB",
    "tags": []
   },
   "outputs": [],
   "source": [
    "import jax\n",
    "\n",
    "from jax import random, jit, vmap, grad\n",
    "from jax import numpy as jnp\n",
    "from jax.lax import cond\n",
    "\n",
    "import astropy\n",
    "import numpy as np\n",
    "\n",
    "import h5py\n",
    "import astropy.units as u\n",
    "\n",
    "from astropy.cosmology import Planck15, FlatLambdaCDM, z_at_value\n",
    "import astropy.constants as constants\n",
    "from jax.scipy.special import logsumexp\n",
    "from scipy.interpolate import interp1d\n",
    "from scipy.stats import gaussian_kde\n",
    "from tqdm import tqdm\n",
    "\n",
    "import matplotlib \n",
    "%matplotlib inline\n",
    "\n",
    "import matplotlib.pyplot as plt\n",
    "matplotlib.rcParams['font.family'] = 'Times New Roman'\n",
    "matplotlib.rcParams['font.sans-serif'] = ['Bitstream Vera Sans']\n",
    "matplotlib.rcParams['text.usetex'] = False\n",
    "matplotlib.rcParams['mathtext.fontset'] = 'cm'\n",
    "matplotlib.rcParams['figure.figsize'] = (16.0, 10.0)\n",
    "matplotlib.rcParams['axes.unicode_minus'] = False\n",
    "\n",
    "import seaborn as sns\n",
    "sns.set_context('talk')\n",
    "sns.set_style('ticks')\n",
    "sns.set_palette('colorblind')\n",
    "c=sns.color_palette('colorblind')\n",
    "\n",
    "from jax.config import config\n",
    "config.update(\"jax_enable_x64\", True)\n",
    "config.update('jax_default_matmul_precision', jax.lax.Precision.HIGHEST)"
   ]
  },
  {
   "cell_type": "code",
   "execution_count": 36,
   "metadata": {
    "colab": {
     "base_uri": "https://localhost:8080/"
    },
    "executionInfo": {
     "elapsed": 1054,
     "status": "ok",
     "timestamp": 1679954840798,
     "user": {
      "displayName": "Ignacio Magana",
      "userId": "03792128717253148259"
     },
     "user_tz": 300
    },
    "id": "IMdISmw-JaN1",
    "outputId": "474c2a8e-3ed8-4c0a-d2c2-d8787fb6241a"
   },
   "outputs": [
    {
     "name": "stderr",
     "output_type": "stream",
     "text": [
      "100%|██████████| 50/50 [00:00<00:00, 147.87it/s]\n"
     ]
    }
   ],
   "source": [
    "from jaxinterp2d import interp2d, CartesianGrid\n",
    "\n",
    "zMax = 3\n",
    "H0Planck = Planck15.H0.value\n",
    "Om0Planck = Planck15.Om0\n",
    "zres=12000\n",
    "\n",
    "cosmo = FlatLambdaCDM(H0=H0Planck,Om0=Planck15.Om0)\n",
    "speed_of_light = constants.c.to('km/s').value\n",
    "zgrid = np.expm1(np.linspace(np.log(1), np.log(zMax+1), zres))\n",
    "\n",
    "rs = []\n",
    "Om0grid = jnp.linspace(0.2,0.4,50)\n",
    "for Om0 in tqdm(Om0grid):\n",
    "    cosmo = FlatLambdaCDM(H0=H0Planck,Om0=Om0)\n",
    "    rs.append(cosmo.comoving_distance(zgrid).to(u.Mpc).value)\n",
    "\n",
    "zgrid = jnp.array(zgrid)\n",
    "rs = jnp.asarray(rs)\n",
    "rs = rs.reshape(len(Om0grid),len(zgrid))\n",
    "\n",
    "@jit\n",
    "def E(z,Om0=Om0Planck):\n",
    "    return jnp.sqrt(Om0*(1+z)**3 + (1.0-Om0))\n",
    "\n",
    "@jit\n",
    "def r_of_z(z,H0,Om0=Om0Planck):\n",
    "    return interp2d(Om0,z,Om0grid,zgrid,rs)*(H0Planck/H0)\n",
    "\n",
    "@jit\n",
    "def dL_of_z(z,H0,Om0=Om0Planck):\n",
    "    return (1+z)*r_of_z(z,H0,Om0)\n",
    "\n",
    "@jit\n",
    "def z_of_dL(dL,H0,Om0=Om0Planck):\n",
    "    return jnp.interp(dL,dL_of_z(zgrid,H0,Om0),zgrid)\n",
    "\n",
    "@jit\n",
    "def dV_of_z(z,H0,Om0=Om0Planck):\n",
    "    return speed_of_light*r_of_z(z,H0,Om0)**2/(H0*E(z,Om0))\n",
    "\n",
    "@jit\n",
    "def ddL_of_z(z,dL,H0,Om0=Om0Planck):\n",
    "    return dL/(1+z) + speed_of_light*(1+z)/(H0*E(z,Om0))"
   ]
  },
  {
   "cell_type": "code",
   "execution_count": 37,
   "metadata": {
    "colab": {
     "base_uri": "https://localhost:8080/"
    },
    "executionInfo": {
     "elapsed": 3666,
     "status": "ok",
     "timestamp": 1679954844462,
     "user": {
      "displayName": "Ignacio Magana",
      "userId": "03792128717253148259"
     },
     "user_tz": 300
    },
    "id": "XTAsATPBFl_i",
    "outputId": "755729f1-4c00-4071-f8ee-746d24819f04"
   },
   "outputs": [
    {
     "name": "stdout",
     "output_type": "stream",
     "text": [
      "0.002\n"
     ]
    }
   ],
   "source": [
    "with h5py.File('/global/homes/w/wballard/standard-sirens/GW190412_selected_galaxies.hdf5', 'r') as inp:\n",
    "    inp=inp['__astropy_table__']\n",
    "    ras_ = np.array(inp['TARGET_RA'])\n",
    "    decs_ = np.array(inp['TARGET_DEC'])\n",
    "    zs_ = np.array(inp['Z'])\n",
    "    ddzs_ = np.array(inp['ZERR'])\n",
    "\n",
    "ngals = len(ras_)\n",
    "\n",
    "n0fid = 0.002\n",
    "print(n0fid)"
   ]
  },
  {
   "cell_type": "code",
   "execution_count": 38,
   "metadata": {
    "colab": {
     "base_uri": "https://localhost:8080/",
     "height": 441
    },
    "executionInfo": {
     "elapsed": 304929,
     "status": "ok",
     "timestamp": 1679966838417,
     "user": {
      "displayName": "Ignacio Magana",
      "userId": "03792128717253148259"
     },
     "user_tz": 300
    },
    "id": "gePX90_u6xr5",
    "outputId": "e5185bae-9f2e-48d2-b91a-e6bb6fc981c6"
   },
   "outputs": [
    {
     "name": "stdout",
     "output_type": "stream",
     "text": [
      "(49152,)\n"
     ]
    },
    {
     "name": "stderr",
     "output_type": "stream",
     "text": [
      "100%|██████████| 49152/49152 [00:00<00:00, 206960.19it/s]\n"
     ]
    },
    {
     "data": {
      "image/png": "[encoded data removed]",
      "text/plain": [
       "<Figure size 612x388.8 with 2 Axes>"
      ]
     },
     "metadata": {},
     "output_type": "display_data"
    }
   ],
   "source": [
    "import healpy as hp\n",
    "\n",
    "nside = 64\n",
    "npix = hp.pixelfunc.nside2npix(nside)\n",
    "apix = hp.pixelfunc.nside2pixarea(nside)\n",
    "pixgrid = np.arange(npix)\n",
    "\n",
    "print(pixgrid.shape)\n",
    "\n",
    "ind = hp.pixelfunc.ang2pix(nside,ras_,decs_,lonlat=True)\n",
    "\n",
    "cats = []\n",
    "ngalaxies = []\n",
    "for pix in tqdm(pixgrid):\n",
    "    id = np.where(ind == pix)[0]\n",
    "    cats.append(id)\n",
    "    ngalaxies.append(len(id))\n",
    "\n",
    "ngalaxies = np.array(ngalaxies)\n",
    "\n",
    "m = np.asarray(ngalaxies)\n",
    "hp.mollview(m, title=\"Mollview image RING\")\n",
    "hp.graticule()"
   ]
  },
  {
   "cell_type": "code",
   "execution_count": 39,
   "metadata": {
    "executionInfo": {
     "elapsed": 15,
     "status": "ok",
     "timestamp": 1679966838418,
     "user": {
      "displayName": "Ignacio Magana",
      "userId": "03792128717253148259"
     },
     "user_tz": 300
    },
    "id": "sZAYCwyK4CGG"
   },
   "outputs": [],
   "source": [
    "deltafid = 3.0\n",
    "\n",
    "@jit\n",
    "def pcomplete(z,zgals,H0=H0Planck,Om0=Om0Planck,n0=n0fid,delta=deltafid):\n",
    "    zz = jnp.expm1(jnp.linspace(jnp.log(1), jnp.log(z+1), 5))\n",
    "\n",
    "    Ngals = jnp.where((zgals < z), jnp.ones(len(zgals)), 0).sum()\n",
    "    Nexpected_fid = jnp.trapz(n0fid*(1+zz)**(delta-1)*apix*dV_of_z(zz,H0Planck,Om0),zz)\n",
    "\n",
    "    Nexpected = Nexpected_fid*(n0/n0fid)*(H0Planck/H0)**3\n",
    "    ratio = Ngals/Nexpected\n",
    "\n",
    "    #ratio = jnp.where((ratio < 1), ratio, 0)\n",
    "    #ratio = jnp.where((ratio != 0), ratio, 1)\n",
    "    return ratio\n",
    "\n",
    "pcomplete_vmap = jit(vmap(pcomplete, in_axes=(0,None,None,None,None,None), out_axes=0))"
   ]
  },
  {
   "cell_type": "code",
   "execution_count": 40,
   "metadata": {
    "colab": {
     "base_uri": "https://localhost:8080/",
     "height": 555
    },
    "executionInfo": {
     "elapsed": 3621,
     "status": "ok",
     "timestamp": 1679966842025,
     "user": {
      "displayName": "Ignacio Magana",
      "userId": "03792128717253148259"
     },
     "user_tz": 300
    },
    "id": "X_GIsnbGIkHg",
    "outputId": "dd4c745c-2451-474b-c41a-aa6a2035dfa4"
   },
   "outputs": [
    {
     "name": "stderr",
     "output_type": "stream",
     "text": [
      "100%|██████████| 3/3 [00:00<00:00,  3.79it/s]\n"
     ]
    },
    {
     "data": {
      "image/png": "[encoded data removed]",
      "text/plain": [
       "<Figure size 1152x720 with 1 Axes>"
      ]
     },
     "metadata": {},
     "output_type": "display_data"
    }
   ],
   "source": [
    "from tqdm import tqdm\n",
    "import warnings\n",
    "warnings.filterwarnings(\"ignore\")\n",
    "\n",
    "Pcompletes = []\n",
    "for pix in tqdm(np.arange(3)):\n",
    "    Pcomplete = pcomplete_vmap(zgrid, zs_[cats[pix]], 20, Om0Planck, n0fid/10, deltafid)\n",
    "    #Pcomplete = jnp.where((Pcomplete < 1), Pcomplete, 0)\n",
    "    #Pcomplete = jnp.where((Pcomplete != 0), Pcomplete, 1)\n",
    "    Pcomplete = jnp.where(~jnp.isnan(Pcomplete), Pcomplete, 0)\n",
    "\n",
    "    Pcompletes.append(Pcomplete)\n",
    "    plt.plot(zgrid[1:],Pcomplete[1:])\n"
   ]
  },
  {
   "cell_type": "code",
   "execution_count": 41,
   "metadata": {
    "executionInfo": {
     "elapsed": 6,
     "status": "ok",
     "timestamp": 1679966842026,
     "user": {
      "displayName": "Ignacio Magana",
      "userId": "03792128717253148259"
     },
     "user_tz": 300
    },
    "id": "RHt6YR3fHPUq"
   },
   "outputs": [],
   "source": [
    "@jit\n",
    "def completeness_fraction(zgrid,zgals,H0=H0Planck,Om0=Om0Planck,n0=n0fid,delta=deltafid):\n",
    "    Pcomplete = pcomplete_vmap(zgrid,zgals,H0Planck,Om0,n0fid,delta)\n",
    "    Pcomplete = Pcomplete*(n0fid/n0)*(H0/H0Planck)**3\n",
    "\n",
    "    #Pcomplete = jnp.where((Pcomplete < 1), Pcomplete, 0)\n",
    "    #Pcomplete = jnp.where((Pcomplete != 0), Pcomplete, 1)\n",
    "    Pcomplete = jnp.where(~jnp.isnan(Pcomplete), Pcomplete, 0)\n",
    "\n",
    "    dVdz = dV_of_z(zgrid, H0Planck, Om0)*(1+zgrid)**(delta-1)\n",
    "\n",
    "    V = jnp.trapz(Pcomplete*apix*dVdz,zgrid)\n",
    "    Vmax = jnp.trapz(apix*dVdz,zgrid)\n",
    "\n",
    "    return V/Vmax\n",
    "\n",
    "f_Om0 = vmap(completeness_fraction, in_axes=(None,None,None,0,None,None), out_axes=0)\n",
    "f_Om0_delta = vmap(f_Om0, in_axes=(None,None,None,None,None,0), out_axes=0)\n"
   ]
  },
  {
   "cell_type": "code",
   "execution_count": 42,
   "metadata": {
    "colab": {
     "base_uri": "https://localhost:8080/"
    },
    "executionInfo": {
     "elapsed": 10601137,
     "status": "ok",
     "timestamp": 1679977443157,
     "user": {
      "displayName": "Ignacio Magana",
      "userId": "03792128717253148259"
     },
     "user_tz": 300
    },
    "id": "mEJMiy3a0fBa",
    "outputId": "75497ecf-8e4a-4c28-b227-b76f133fbf6f"
   },
   "outputs": [
    {
     "name": "stderr",
     "output_type": "stream",
     "text": [
      "100%|██████████| 49152/49152 [00:41<00:00, 1177.40it/s]\n"
     ]
    }
   ],
   "source": [
    "deltagrid = jnp.linspace(0,3,50)\n",
    "fs = []\n",
    "\n",
    "pixgrid = jnp.arange(npix)\n",
    "for pix in tqdm(pixgrid):\n",
    "    idx = cats[pix]\n",
    "    if (len(idx) == 0):\n",
    "        f = jnp.zeros((len(deltagrid),len(Om0grid)))\n",
    "    else:\n",
    "        f = f_Om0_delta(zgrid,zs_[idx],H0Planck,Om0grid,n0fid,deltagrid)\n",
    "    fs.append(f)\n",
    "\n",
    "fs = jnp.asarray(fs)"
   ]
  },
  {
   "cell_type": "code",
   "execution_count": 43,
   "metadata": {
    "executionInfo": {
     "elapsed": 296,
     "status": "ok",
     "timestamp": 1679977443562,
     "user": {
      "displayName": "Ignacio Magana",
      "userId": "03792128717253148259"
     },
     "user_tz": 300
    },
    "id": "FBD9HIEhH-R5"
   },
   "outputs": [],
   "source": [
    "from jaxinterp2d import interp2d, CartesianGrid\n",
    "\n",
    "pixgrid = jnp.array(pixgrid)\n",
    "\n",
    "limits = [(pixgrid[0], pixgrid[-1]), (Om0grid[0], Om0grid[-1]), (deltagrid[0], deltagrid[-1])]\n",
    "grid = CartesianGrid(limits, fs, mode='nearest')\n",
    "\n",
    "@jit\n",
    "def completeness_fraction(H0,Om0,n0,delta,pix):\n",
    "    return grid(pix,Om0,delta)*(n0fid/n0)*(H0/H0Planck)**3"
   ]
  },
  {
   "cell_type": "code",
   "execution_count": 44,
   "metadata": {
    "colab": {
     "base_uri": "https://localhost:8080/",
     "height": 551
    },
    "executionInfo": {
     "elapsed": 789992,
     "status": "ok",
     "timestamp": 1679978233552,
     "user": {
      "displayName": "Ignacio Magana",
      "userId": "03792128717253148259"
     },
     "user_tz": 300
    },
    "id": "sWeOf0sS02BW",
    "outputId": "96bb5c81-9c26-4044-9377-04a140e88e2f"
   },
   "outputs": [
    {
     "name": "stderr",
     "output_type": "stream",
     "text": [
      "100%|██████████| 49152/49152 [00:11<00:00, 4420.95it/s]\n"
     ]
    }
   ],
   "source": [
    "from jax.scipy.stats import norm\n",
    "\n",
    "@jit\n",
    "def pcatalog(z, zs, ddzs):\n",
    "    ns = len(z)\n",
    "    ngals = len(zs)\n",
    "    wts = 1/ngals\n",
    "    pdf = jnp.sum(wts*norm.pdf(jnp.repeat(z,ngals),jnp.tile(zs,ns),jnp.tile(ddzs,ns)).reshape(ns,ngals),axis=1)\n",
    "    return pdf\n",
    "\n",
    "pcatalogs = []\n",
    "for pix in tqdm(pixgrid):\n",
    "    idx = cats[pix]\n",
    "    if (len(idx) == 0):\n",
    "        prob = jnp.zeros(len(zgrid))\n",
    "    else:\n",
    "        prob = pcatalog(zgrid, zs_[idx], ddzs_[idx])\n",
    "    #plt.plot(zgrid,prob)\n",
    "    pcatalogs.append(prob)"
   ]
  },
  {
   "cell_type": "code",
   "execution_count": 45,
   "metadata": {
    "executionInfo": {
     "elapsed": 2732,
     "status": "ok",
     "timestamp": 1679978236274,
     "user": {
      "displayName": "Ignacio Magana",
      "userId": "03792128717253148259"
     },
     "user_tz": 300
    },
    "id": "ZjWXC3LcRJpH"
   },
   "outputs": [],
   "source": [
    "from jaxinterp2d import interp2d\n",
    "\n",
    "vals = jnp.asarray(pcatalogs)\n",
    "vv = vals.reshape(len(pixgrid),len(zgrid))\n",
    "\n",
    "@jit\n",
    "def dV_of_z_normed(z,Om0,gamma):\n",
    "    dV = dV_of_z(z,H0Planck,Om0)*(1+z)**(gamma-1)\n",
    "    return dV/jnp.trapz(dV,z)\n",
    "\n",
    "@jit\n",
    "def PriorUniverse(z,pix,H0,Om0,n0,delta,gamma):\n",
    "    f = completeness_fraction(H0,Om0,n0,delta,pix)\n",
    "    prob = (f*interp2d(pix,zgrid,pixgrid,zgrid,vv) + (1-f)*dV_of_z_normed(zgrid,Om0,gamma))\n",
    "    prob = prob/jnp.trapz(prob,zgrid)\n",
    "    return jnp.interp(z,zgrid,prob)\n",
    "\n",
    "@jit\n",
    "def PriorUniverse_TEST(z,pix,H0,Om0,n0,delta,gamma):\n",
    "    f = completeness_fraction(H0,Om0,n0,delta,pix)\n",
    "    pvol = dV_of_z_normed(zgrid,Om0,1)\n",
    "    pcat = interp2d(pix,zgrid,pixgrid,zgrid,vv)*pvol\n",
    "    pcat = pcat/jnp.trapz(pcat,zgrid)\n",
    "    pcat = jnp.where(~jnp.isnan(pcat), pcat, 0)\n",
    "    prob = (f*pcat + (1-f)*pvol)*(1+zgrid)**(gamma-1)\n",
    "    prob = prob/jnp.trapz(prob,zgrid)\n",
    "    return jnp.interp(z,zgrid,prob)\n",
    "\n",
    "PriorUniverse_vmap = jit(vmap(PriorUniverse_TEST, in_axes=(None,0,None,None,None,None,None), out_axes=0))"
   ]
  },
  {
   "cell_type": "code",
   "execution_count": 46,
   "metadata": {
    "executionInfo": {
     "elapsed": 15691,
     "status": "ok",
     "timestamp": 1679978603775,
     "user": {
      "displayName": "Ignacio Magana",
      "userId": "03792128717253148259"
     },
     "user_tz": 300
    },
    "id": "LTKMNwnkRMFM"
   },
   "outputs": [],
   "source": [
    "import h5py\n",
    "with h5py.File('/global/homes/w/wballard/standard-sirens/standard-sirens'+str(nside)+'_'+str(zres)+'_approx.h5', 'w') as f:\n",
    "    f.attrs['nside'] = nside\n",
    "    f.attrs['n0fid'] = n0fid\n",
    "    f.attrs['H0fid'] = H0Planck\n",
    "    f.create_dataset('zgrid', data=zgrid, compression='gzip', shuffle=False)\n",
    "    f.create_dataset('Om0grid', data=Om0grid, compression='gzip', shuffle=False)\n",
    "    f.create_dataset('deltagrid', data=deltagrid, compression='gzip', shuffle=False)\n",
    "    f.create_dataset('fs', data=fs, compression='gzip', shuffle=False)\n",
    "    f.create_dataset('pcat', data=vals, compression='gzip', shuffle=False)"
   ]
  },
  {
   "cell_type": "code",
   "execution_count": null,
   "metadata": {
    "colab": {
     "base_uri": "https://localhost:8080/",
     "height": 531
    },
    "executionInfo": {
     "elapsed": 190006,
     "status": "ok",
     "timestamp": 1679978426278,
     "user": {
      "displayName": "Ignacio Magana",
      "userId": "03792128717253148259"
     },
     "user_tz": 300
    },
    "id": "s7BTVCiRLNhd",
    "outputId": "9addf5e4-479b-46b3-dea9-8aef8010a4eb"
   },
   "outputs": [],
   "source": [
    "for pix in pixgrid:\n",
    "    prob = PriorUniverse(zgrid,pix,H0Planck,Om0Planck,n0fid,0,0)\n",
    "    plt.plot(zgrid,prob)"
   ]
  },
  {
   "cell_type": "code",
   "execution_count": 14,
   "metadata": {
    "colab": {
     "base_uri": "https://localhost:8080/",
     "height": 546
    },
    "executionInfo": {
     "elapsed": 161811,
     "status": "ok",
     "timestamp": 1679978588086,
     "user": {
      "displayName": "Ignacio Magana",
      "userId": "03792128717253148259"
     },
     "user_tz": 300
    },
    "id": "op0PQdxsFASF",
    "outputId": "714e90f4-877c-4538-fa8e-1b5a341b62ff"
   },
   "outputs": [
    {
     "data": {
      "image/png": "[encoded data removed]",
      "text/plain": [
       "<Figure size 1152x720 with 1 Axes>"
      ]
     },
     "metadata": {},
     "output_type": "display_data"
    }
   ],
   "source": [
    "for pix in pixgrid:\n",
    "    prob = PriorUniverse_TEST(zgrid,pix,H0Planck,Om0Planck,n0fid/100,0,0)\n",
    "    plt.plot(zgrid,prob)"
   ]
  },
  {
   "cell_type": "code",
   "execution_count": null,
   "metadata": {
    "executionInfo": {
     "elapsed": 11,
     "status": "ok",
     "timestamp": 1679978603776,
     "user": {
      "displayName": "Ignacio Magana",
      "userId": "03792128717253148259"
     },
     "user_tz": 300
    },
    "id": "ZrgwyyN43tjU"
   },
   "outputs": [],
   "source": []
  }
 ],
 "metadata": {
  "colab": {
   "machine_shape": "hm",
   "provenance": []
  },
  "gpuClass": "standard",
  "kernelspec": {
   "display_name": "NERSC Python",
   "language": "python",
   "name": "python3"
  },
  "language_info": {
   "codemirror_mode": {
    "name": "ipython",
    "version": 3
   },
   "file_extension": ".py",
   "mimetype": "text/x-python",
   "name": "python",
   "nbconvert_exporter": "python",
   "pygments_lexer": "ipython3",
   "version": "3.9.7"
  }
 },
 "nbformat": 4,
 "nbformat_minor": 4
}
