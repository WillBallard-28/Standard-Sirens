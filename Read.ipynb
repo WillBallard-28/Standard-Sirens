{
 "cells": [
  {
   "cell_type": "code",
   "execution_count": 2,
   "id": "6d338af3-ce3a-4c98-97b1-0ebe005bef3c",
   "metadata": {},
   "outputs": [
    {
     "name": "stdout",
     "output_type": "stream",
     "text": [
      "Reading in fits data\n"
     ]
    }
   ],
   "source": [
    "import numpy as np\n",
    "from astropy.io import fits\n",
    "import sys\n",
    "import healpy as hp\n",
    "from astropy.table import Table\n",
    "sys.stderr=open('error.log','w',buffering=1)\n",
    "\n",
    "z_min=0.001\n",
    "z_max=0.5\n",
    "outlabel='reducedCatalogDaily.fits'\n",
    "\n",
    "ra_column_name='RA'\n",
    "dec_column_name='DEC'\n",
    "z_column_name='Z_not4clus'\n",
    "zerr_column_name='ZERR'\n",
    "mag_column_name='OMAG'\n",
    "absmag_column='AMAG'\n",
    "deltachi2_column='DELTACHI2'\n",
    "flux_column_name='FLUX_R'\n",
    "ebv_column_name='EBV'\n",
    "target_column_name='TARGETID'\n",
    "weight1_column_name='FRACZ_TILELOCID'\n",
    "weight2_column_name='FRAC_TLOBS_TILES'\n",
    "\n",
    "DIR_CATALOG='/global/cfs/cdirs/desi/survey/catalogs/main/LSS/daily/LSScats/thru230708/'\n",
    "glxcat='BGS_ANY_full.dat.fits'\n",
    "\n",
    "\n",
    "NSIDE=1024\n",
    "\n",
    "\n",
    "filename = DIR_CATALOG+glxcat\n",
    "hdul= fits.open(filename,memmap=True)\n",
    "h=hdul[1].data\n",
    "\n",
    "print(\"Reading in fits data\")\n",
    "deltachi2=h[deltachi2_column]\n",
    "mask_deltachi=deltachi2>40\n",
    "zwarn=h['ZWARN']\n",
    "zwarn_mask=(zwarn==0)\n",
    "spectype=h['SPECTYPE']\n",
    "spectype_mask=(spectype!='STAR')\n",
    "z=h[z_column_name]\n",
    "mask_z=np.logical_and(z>z_min, z<z_max)\n",
    "bgs=h['BGS_TARGET']\n",
    "bgs_mask=bgs>0\n",
    "\n"
   ]
  },
  {
   "cell_type": "code",
   "execution_count": 3,
   "id": "259f186e-7eac-4e14-b6a0-c585db73bc00",
   "metadata": {},
   "outputs": [
    {
     "name": "stdout",
     "output_type": "stream",
     "text": [
      "[187.22510927 187.22552437 187.22650518 ... 336.22042932 336.20280307\n",
      " 336.17965185]\n"
     ]
    }
   ],
   "source": [
    "ra_g=h[ra_column_name][mask_z & mask_deltachi & zwarn_mask & spectype_mask & bgs_mask]\n",
    "dec_g=h[dec_column_name][mask_z & mask_deltachi & zwarn_mask & spectype_mask & bgs_mask]\n",
    "z=z[mask_z & mask_deltachi & zwarn_mask & spectype_mask & bgs_mask]\n",
    "zerr_g=h[zerr_column_name][mask_z & mask_deltachi & zwarn_mask & spectype_mask & bgs_mask]\n",
    "flux_g=h[flux_column_name][mask_z & mask_deltachi & zwarn_mask & spectype_mask & bgs_mask]\n",
    "ebv_g=h[ebv_column_name][mask_z & mask_deltachi & zwarn_mask & spectype_mask & bgs_mask]\n",
    "target_g=h[target_column_name][mask_z & mask_deltachi & zwarn_mask & spectype_mask & bgs_mask]\n",
    "weight1_g=h[weight1_column_name][mask_z & mask_deltachi & zwarn_mask & spectype_mask & bgs_mask]\n",
    "weight2_g=h[weight2_column_name][mask_z & mask_deltachi & zwarn_mask & spectype_mask & bgs_mask]\n",
    "\n",
    "\n",
    "\n",
    "\n",
    "hdul.close()\n",
    "print(ra_g)\n",
    "pix_g= hp.pixelfunc.ang2pix(NSIDE, ra_g, dec_g,lonlat=True)    \n",
    "t=Table([ra_g,dec_g,z,zerr_g,pix_g,flux_g,ebv_g,target_g,weight1_g,weight2_g],\n",
    "        names=('TARGET_RA','TARGET_DEC','Z','ZERR', 'hpix1024','FLUX_R','EBV','TARGETID','FRACZ_TILELOCID','FRAC_TLOBS_TILES'))\n",
    "t.write(outlabel,format='fits',overwrite=True)\n",
    "\n",
    "\n",
    "#print('Done writing '+outlabel)"
   ]
  },
  {
   "cell_type": "code",
   "execution_count": 9,
   "id": "810dea6a-3fb2-4d9b-925f-b60159181520",
   "metadata": {},
   "outputs": [
    {
     "name": "stdout",
     "output_type": "stream",
     "text": [
      "30300000\n",
      "22547052\n",
      "21209773\n",
      "16157047\n",
      "7912548\n",
      "6541993\n"
     ]
    }
   ],
   "source": [
    "ra=h[ra_column_name]\n",
    "print(len(ra))\n",
    "ra=ra[zwarn_mask]\n",
    "print(len(ra))\n",
    "deltachi2=h[deltachi2_column][zwarn_mask]\n",
    "mask_deltachi2=deltachi2>40\n",
    "ra=ra[mask_deltachi2]\n",
    "print(len(ra))\n",
    "spectype2=h['SPECTYPE'][zwarn_mask & mask_deltachi]\n",
    "spectype2_mask=(spectype2!='STAR')\n",
    "ra=ra[spectype2_mask]\n",
    "print(len(ra))\n",
    "z2=h['Z'][zwarn_mask & mask_deltachi & spectype_mask]\n",
    "mask_z2=np.logical_and(z2>z_min,z2<z_max)\n",
    "ra=ra[mask_z2]\n",
    "print(len(ra))\n",
    "bgs2=h['BGS_TARGET'][mask_z & mask_deltachi & zwarn_mask & spectype_mask]\n",
    "bgs_mask2=bgs2>0\n",
    "ra=ra[bgs_mask2]\n",
    "print(len(ra))\n"
   ]
  },
  {
   "cell_type": "markdown",
   "id": "59e0e8b7-2a16-4ff8-ae64-3db4ceb29bad",
   "metadata": {},
   "source": [
    "30,300,000-Original Catalog before any cuts\n",
    "22,547,052-ZWARN==0 applied\n",
    "21,209,773-DELTACHI2>40 applied\n",
    "16,157,047-SPECTYPE !=STAR\n",
    "7,912,548-0.001<z<0.5\n",
    "6,541,993-BGS_TARGET>0\n",
    "5,479,226-absolute magnitude cut at -21.5\n",
    "4,478,235-zcut depending on cosmological models (zmin=0.03882, zmax=0.32295 for GW190412)\n",
    "8,442-galaxies in 90% region\n"
   ]
  },
  {
   "cell_type": "code",
   "execution_count": 5,
   "id": "528d8604-4c7a-477e-b310-99623dc692b3",
   "metadata": {},
   "outputs": [
    {
     "name": "stdout",
     "output_type": "stream",
     "text": [
      "514470\n",
      "6541993\n",
      "6541993\n"
     ]
    },
    {
     "ename": "IndexError",
     "evalue": "boolean index did not match indexed array along dimension 0; dimension is 554666 but corresponding boolean dimension is 6541993",
     "output_type": "error",
     "traceback": [
      "\u001b[0;31m---------------------------------------------------------------------------\u001b[0m",
      "\u001b[0;31mIndexError\u001b[0m                                Traceback (most recent call last)",
      "Cell \u001b[0;32mIn[5], line 13\u001b[0m\n\u001b[1;32m     10\u001b[0m target_mask2\u001b[38;5;241m=\u001b[39mnp\u001b[38;5;241m.\u001b[39misin(weights_targets,target_g)\n\u001b[1;32m     11\u001b[0m \u001b[38;5;28mprint\u001b[39m(\u001b[38;5;28mlen\u001b[39m(target_mask))\n\u001b[0;32m---> 13\u001b[0m ra_g\u001b[38;5;241m=\u001b[39m\u001b[43mra_g\u001b[49m\u001b[43m[\u001b[49m\u001b[43mtarget_mask\u001b[49m\u001b[43m]\u001b[49m\n\u001b[1;32m     14\u001b[0m dec_g\u001b[38;5;241m=\u001b[39mdec_g[target_mask]\n\u001b[1;32m     15\u001b[0m z\u001b[38;5;241m=\u001b[39mz[target_mask]\n",
      "\u001b[0;31mIndexError\u001b[0m: boolean index did not match indexed array along dimension 0; dimension is 554666 but corresponding boolean dimension is 6541993"
     ]
    }
   ],
   "source": [
    "weight_catalog_name='/global/cfs/cdirs/desi/survey/catalogs/Y1/LSS/iron/LSScats/v0.1/blinded/BGS_BRIGHT-21.5_full.dat.fits'\n",
    "weight_catalog=fits.open(weight_catalog_name,memmap=True)[1].data\n",
    "weight_fkp=weight_catalog['WEIGHT_FKP']\n",
    "weight_comp=1/weight_catalog['FRACZ_TILELOCID']\n",
    "weights_targets=weight_catalog['TARGETID']"
   ]
  },
  {
   "cell_type": "code",
   "execution_count": null,
   "id": "094a0b7c-81cc-4f90-b43b-ce06987240e8",
   "metadata": {},
   "outputs": [],
   "source": []
  }
 ],
 "metadata": {
  "kernelspec": {
   "display_name": "DESI main",
   "language": "python",
   "name": "desi-main"
  },
  "language_info": {
   "codemirror_mode": {
    "name": "ipython",
    "version": 3
   },
   "file_extension": ".py",
   "mimetype": "text/x-python",
   "name": "python",
   "nbconvert_exporter": "python",
   "pygments_lexer": "ipython3",
   "version": "3.10.8"
  }
 },
 "nbformat": 4,
 "nbformat_minor": 5
}
