{
 "cells": [
  {
   "cell_type": "code",
   "execution_count": 1,
   "metadata": {},
   "outputs": [
    {
     "name": "stdout",
     "output_type": "stream",
     "text": [
      "/global/homes/w/wballard/standard-sirens/GW190412_skymap.fits.gz\n"
     ]
    }
   ],
   "source": [
    "import healpy as hp\n",
    "import numpy as np\n",
    "from astropy.cosmology import FlatLambdaCDM,z_at_value\n",
    "import astropy.units as u\n",
    "\n",
    "DIR_SKYMAP='/global/homes/w/wballard/standard-sirens/'\n",
    "skymap='GW190412_skymap.fits.gz'\n",
    "nevent=1\n",
    "\n",
    "skymap_name=DIR_SKYMAP+skymap\n",
    "print(skymap_name)\n",
    "H0_min=20\n",
    "H0_max=140\n",
    "Omega_m=0.3\n",
    "z_min=0.001\n",
    "z_max=0.5\n",
    "extinction_coeff=2.165\n",
    "\n",
    "pb,distmu,distsigma,distnorm=hp.read_map(skymap_name,field=range(4),memmap=True)\n",
    "NSIDE=hp.npix2nside(len(pb))\n",
    "pixarea=hp.nside2pixarea(NSIDE)\n",
    "pixarea_deg=hp.nside2pixarea(NSIDE,degrees=True)\n",
    "pb_frac=0.9"
   ]
  },
  {
   "cell_type": "code",
   "execution_count": 2,
   "metadata": {},
   "outputs": [],
   "source": [
    "from scipy import interpolate\n",
    "def dist_mod(z_vals,d='/global/homes/w/wballard/standard-sirens/'):\n",
    "   z = np.load(d+'dist_mod_kcorr.npz')['z']\n",
    "   dm = np.load(d+'dist_mod_kcorr.npz')['dm']\n",
    "   f_dm = interpolate.interp1d(z, dm, kind='cubic', bounds_error=False, fill_value=0)\n",
    "   return f_dm(z_vals)"
   ]
  },
  {
   "cell_type": "code",
   "execution_count": 3,
   "metadata": {},
   "outputs": [],
   "source": [
    "\n",
    "from astropy.io import fits\n",
    "DIR_CATALOG='/global/homes/w/wballard/standard-sirens/'\n",
    "glxcat='reducedTable.fits'\n",
    "ra_column_name='TARGET_RA'\n",
    "dec_column_name='TARGET_DEC'\n",
    "z_column_name='Z'\n",
    "zerr_column_name='ZERR'\n",
    "flux_column_name='FLUX_R'\n",
    "catalog_name = DIR_CATALOG+glxcat\n",
    "\n",
    "h=fits.open(catalog_name,memmap=True)[1].data\n",
    "flux_g=h[flux_column_name]\n",
    "z_g=h[z_column_name]\n",
    "ra_g=h[ra_column_name]\n",
    "dec_g=h[dec_column_name]\n",
    "zerr_g=h[zerr_column_name]\n",
    "\n",
    "pix_g=h['hpix1024']\n",
    "ebv_g=h['EBV']\n",
    "weight_g = np.ones_like(ra_g)\n",
    "#print(np.max(flux_g))\n"
   ]
  },
  {
   "cell_type": "code",
   "execution_count": 4,
   "metadata": {},
   "outputs": [
    {
     "ename": "FileNotFoundError",
     "evalue": "[Errno 2] No such file or directory: '/global/homes/w/wballard/standard-sirens/ReducedCatalog.fits'",
     "output_type": "error",
     "traceback": [
      "\u001b[0;31m---------------------------------------------------------------------------\u001b[0m",
      "\u001b[0;31mFileNotFoundError\u001b[0m                         Traceback (most recent call last)",
      "Cell \u001b[0;32mIn[4], line 1\u001b[0m\n\u001b[0;32m----> 1\u001b[0m h2\u001b[38;5;241m=\u001b[39m\u001b[43mfits\u001b[49m\u001b[38;5;241;43m.\u001b[39;49m\u001b[43mopen\u001b[49m\u001b[43m(\u001b[49m\u001b[43mDIR_CATALOG\u001b[49m\u001b[38;5;241;43m+\u001b[39;49m\u001b[38;5;124;43m'\u001b[39;49m\u001b[38;5;124;43mReducedCatalog.fits\u001b[39;49m\u001b[38;5;124;43m'\u001b[39;49m\u001b[43m,\u001b[49m\u001b[43mmemmap\u001b[49m\u001b[38;5;241;43m=\u001b[39;49m\u001b[38;5;28;43;01mTrue\u001b[39;49;00m\u001b[43m)\u001b[49m[\u001b[38;5;241m1\u001b[39m]\u001b[38;5;241m.\u001b[39mdata\n\u001b[1;32m      2\u001b[0m z2\u001b[38;5;241m=\u001b[39mh[z_column_name]\n\u001b[1;32m      3\u001b[0m ra2\u001b[38;5;241m=\u001b[39mh[ra_column_name]\n",
      "File \u001b[0;32m~/.conda/envs/standard-sirens/lib/python3.11/site-packages/astropy/io/fits/hdu/hdulist.py:214\u001b[0m, in \u001b[0;36mfitsopen\u001b[0;34m(name, mode, memmap, save_backup, cache, lazy_load_hdus, ignore_missing_simple, use_fsspec, fsspec_kwargs, **kwargs)\u001b[0m\n\u001b[1;32m    211\u001b[0m \u001b[38;5;28;01mif\u001b[39;00m \u001b[38;5;129;01mnot\u001b[39;00m name:\n\u001b[1;32m    212\u001b[0m     \u001b[38;5;28;01mraise\u001b[39;00m \u001b[38;5;167;01mValueError\u001b[39;00m(\u001b[38;5;124mf\u001b[39m\u001b[38;5;124m\"\u001b[39m\u001b[38;5;124mEmpty filename: \u001b[39m\u001b[38;5;132;01m{\u001b[39;00mname\u001b[38;5;132;01m!r}\u001b[39;00m\u001b[38;5;124m\"\u001b[39m)\n\u001b[0;32m--> 214\u001b[0m \u001b[38;5;28;01mreturn\u001b[39;00m \u001b[43mHDUList\u001b[49m\u001b[38;5;241;43m.\u001b[39;49m\u001b[43mfromfile\u001b[49m\u001b[43m(\u001b[49m\n\u001b[1;32m    215\u001b[0m \u001b[43m    \u001b[49m\u001b[43mname\u001b[49m\u001b[43m,\u001b[49m\n\u001b[1;32m    216\u001b[0m \u001b[43m    \u001b[49m\u001b[43mmode\u001b[49m\u001b[43m,\u001b[49m\n\u001b[1;32m    217\u001b[0m \u001b[43m    \u001b[49m\u001b[43mmemmap\u001b[49m\u001b[43m,\u001b[49m\n\u001b[1;32m    218\u001b[0m \u001b[43m    \u001b[49m\u001b[43msave_backup\u001b[49m\u001b[43m,\u001b[49m\n\u001b[1;32m    219\u001b[0m \u001b[43m    \u001b[49m\u001b[43mcache\u001b[49m\u001b[43m,\u001b[49m\n\u001b[1;32m    220\u001b[0m \u001b[43m    \u001b[49m\u001b[43mlazy_load_hdus\u001b[49m\u001b[43m,\u001b[49m\n\u001b[1;32m    221\u001b[0m \u001b[43m    \u001b[49m\u001b[43mignore_missing_simple\u001b[49m\u001b[43m,\u001b[49m\n\u001b[1;32m    222\u001b[0m \u001b[43m    \u001b[49m\u001b[43muse_fsspec\u001b[49m\u001b[38;5;241;43m=\u001b[39;49m\u001b[43muse_fsspec\u001b[49m\u001b[43m,\u001b[49m\n\u001b[1;32m    223\u001b[0m \u001b[43m    \u001b[49m\u001b[43mfsspec_kwargs\u001b[49m\u001b[38;5;241;43m=\u001b[39;49m\u001b[43mfsspec_kwargs\u001b[49m\u001b[43m,\u001b[49m\n\u001b[1;32m    224\u001b[0m \u001b[43m    \u001b[49m\u001b[38;5;241;43m*\u001b[39;49m\u001b[38;5;241;43m*\u001b[39;49m\u001b[43mkwargs\u001b[49m\u001b[43m,\u001b[49m\n\u001b[1;32m    225\u001b[0m \u001b[43m\u001b[49m\u001b[43m)\u001b[49m\n",
      "File \u001b[0;32m~/.conda/envs/standard-sirens/lib/python3.11/site-packages/astropy/io/fits/hdu/hdulist.py:482\u001b[0m, in \u001b[0;36mHDUList.fromfile\u001b[0;34m(cls, fileobj, mode, memmap, save_backup, cache, lazy_load_hdus, ignore_missing_simple, **kwargs)\u001b[0m\n\u001b[1;32m    462\u001b[0m \u001b[38;5;129m@classmethod\u001b[39m\n\u001b[1;32m    463\u001b[0m \u001b[38;5;28;01mdef\u001b[39;00m \u001b[38;5;21mfromfile\u001b[39m(\n\u001b[1;32m    464\u001b[0m     \u001b[38;5;28mcls\u001b[39m,\n\u001b[0;32m   (...)\u001b[0m\n\u001b[1;32m    472\u001b[0m     \u001b[38;5;241m*\u001b[39m\u001b[38;5;241m*\u001b[39mkwargs,\n\u001b[1;32m    473\u001b[0m ):\n\u001b[1;32m    474\u001b[0m \u001b[38;5;250m    \u001b[39m\u001b[38;5;124;03m\"\"\"\u001b[39;00m\n\u001b[1;32m    475\u001b[0m \u001b[38;5;124;03m    Creates an `HDUList` instance from a file-like object.\u001b[39;00m\n\u001b[1;32m    476\u001b[0m \n\u001b[0;32m   (...)\u001b[0m\n\u001b[1;32m    479\u001b[0m \u001b[38;5;124;03m    documentation for details of the parameters accepted by this method).\u001b[39;00m\n\u001b[1;32m    480\u001b[0m \u001b[38;5;124;03m    \"\"\"\u001b[39;00m\n\u001b[0;32m--> 482\u001b[0m     \u001b[38;5;28;01mreturn\u001b[39;00m \u001b[38;5;28;43mcls\u001b[39;49m\u001b[38;5;241;43m.\u001b[39;49m\u001b[43m_readfrom\u001b[49m\u001b[43m(\u001b[49m\n\u001b[1;32m    483\u001b[0m \u001b[43m        \u001b[49m\u001b[43mfileobj\u001b[49m\u001b[38;5;241;43m=\u001b[39;49m\u001b[43mfileobj\u001b[49m\u001b[43m,\u001b[49m\n\u001b[1;32m    484\u001b[0m \u001b[43m        \u001b[49m\u001b[43mmode\u001b[49m\u001b[38;5;241;43m=\u001b[39;49m\u001b[43mmode\u001b[49m\u001b[43m,\u001b[49m\n\u001b[1;32m    485\u001b[0m \u001b[43m        \u001b[49m\u001b[43mmemmap\u001b[49m\u001b[38;5;241;43m=\u001b[39;49m\u001b[43mmemmap\u001b[49m\u001b[43m,\u001b[49m\n\u001b[1;32m    486\u001b[0m \u001b[43m        \u001b[49m\u001b[43msave_backup\u001b[49m\u001b[38;5;241;43m=\u001b[39;49m\u001b[43msave_backup\u001b[49m\u001b[43m,\u001b[49m\n\u001b[1;32m    487\u001b[0m \u001b[43m        \u001b[49m\u001b[43mcache\u001b[49m\u001b[38;5;241;43m=\u001b[39;49m\u001b[43mcache\u001b[49m\u001b[43m,\u001b[49m\n\u001b[1;32m    488\u001b[0m \u001b[43m        \u001b[49m\u001b[43mignore_missing_simple\u001b[49m\u001b[38;5;241;43m=\u001b[39;49m\u001b[43mignore_missing_simple\u001b[49m\u001b[43m,\u001b[49m\n\u001b[1;32m    489\u001b[0m \u001b[43m        \u001b[49m\u001b[43mlazy_load_hdus\u001b[49m\u001b[38;5;241;43m=\u001b[39;49m\u001b[43mlazy_load_hdus\u001b[49m\u001b[43m,\u001b[49m\n\u001b[1;32m    490\u001b[0m \u001b[43m        \u001b[49m\u001b[38;5;241;43m*\u001b[39;49m\u001b[38;5;241;43m*\u001b[39;49m\u001b[43mkwargs\u001b[49m\u001b[43m,\u001b[49m\n\u001b[1;32m    491\u001b[0m \u001b[43m    \u001b[49m\u001b[43m)\u001b[49m\n",
      "File \u001b[0;32m~/.conda/envs/standard-sirens/lib/python3.11/site-packages/astropy/io/fits/hdu/hdulist.py:1170\u001b[0m, in \u001b[0;36mHDUList._readfrom\u001b[0;34m(cls, fileobj, data, mode, memmap, cache, lazy_load_hdus, ignore_missing_simple, use_fsspec, fsspec_kwargs, **kwargs)\u001b[0m\n\u001b[1;32m   1167\u001b[0m \u001b[38;5;28;01mif\u001b[39;00m fileobj \u001b[38;5;129;01mis\u001b[39;00m \u001b[38;5;129;01mnot\u001b[39;00m \u001b[38;5;28;01mNone\u001b[39;00m:\n\u001b[1;32m   1168\u001b[0m     \u001b[38;5;28;01mif\u001b[39;00m \u001b[38;5;129;01mnot\u001b[39;00m \u001b[38;5;28misinstance\u001b[39m(fileobj, _File):\n\u001b[1;32m   1169\u001b[0m         \u001b[38;5;66;03m# instantiate a FITS file object (ffo)\u001b[39;00m\n\u001b[0;32m-> 1170\u001b[0m         fileobj \u001b[38;5;241m=\u001b[39m \u001b[43m_File\u001b[49m\u001b[43m(\u001b[49m\n\u001b[1;32m   1171\u001b[0m \u001b[43m            \u001b[49m\u001b[43mfileobj\u001b[49m\u001b[43m,\u001b[49m\n\u001b[1;32m   1172\u001b[0m \u001b[43m            \u001b[49m\u001b[43mmode\u001b[49m\u001b[38;5;241;43m=\u001b[39;49m\u001b[43mmode\u001b[49m\u001b[43m,\u001b[49m\n\u001b[1;32m   1173\u001b[0m \u001b[43m            \u001b[49m\u001b[43mmemmap\u001b[49m\u001b[38;5;241;43m=\u001b[39;49m\u001b[43mmemmap\u001b[49m\u001b[43m,\u001b[49m\n\u001b[1;32m   1174\u001b[0m \u001b[43m            \u001b[49m\u001b[43mcache\u001b[49m\u001b[38;5;241;43m=\u001b[39;49m\u001b[43mcache\u001b[49m\u001b[43m,\u001b[49m\n\u001b[1;32m   1175\u001b[0m \u001b[43m            \u001b[49m\u001b[43muse_fsspec\u001b[49m\u001b[38;5;241;43m=\u001b[39;49m\u001b[43muse_fsspec\u001b[49m\u001b[43m,\u001b[49m\n\u001b[1;32m   1176\u001b[0m \u001b[43m            \u001b[49m\u001b[43mfsspec_kwargs\u001b[49m\u001b[38;5;241;43m=\u001b[39;49m\u001b[43mfsspec_kwargs\u001b[49m\u001b[43m,\u001b[49m\n\u001b[1;32m   1177\u001b[0m \u001b[43m        \u001b[49m\u001b[43m)\u001b[49m\n\u001b[1;32m   1178\u001b[0m     \u001b[38;5;66;03m# The Astropy mode is determined by the _File initializer if the\u001b[39;00m\n\u001b[1;32m   1179\u001b[0m     \u001b[38;5;66;03m# supplied mode was None\u001b[39;00m\n\u001b[1;32m   1180\u001b[0m     mode \u001b[38;5;241m=\u001b[39m fileobj\u001b[38;5;241m.\u001b[39mmode\n",
      "File \u001b[0;32m~/.conda/envs/standard-sirens/lib/python3.11/site-packages/astropy/io/fits/file.py:218\u001b[0m, in \u001b[0;36m_File.__init__\u001b[0;34m(self, fileobj, mode, memmap, overwrite, cache, use_fsspec, fsspec_kwargs)\u001b[0m\n\u001b[1;32m    216\u001b[0m     \u001b[38;5;28mself\u001b[39m\u001b[38;5;241m.\u001b[39m_open_fileobj(fileobj, mode, overwrite)\n\u001b[1;32m    217\u001b[0m \u001b[38;5;28;01melif\u001b[39;00m \u001b[38;5;28misinstance\u001b[39m(fileobj, (\u001b[38;5;28mstr\u001b[39m, \u001b[38;5;28mbytes\u001b[39m)):\n\u001b[0;32m--> 218\u001b[0m     \u001b[38;5;28;43mself\u001b[39;49m\u001b[38;5;241;43m.\u001b[39;49m\u001b[43m_open_filename\u001b[49m\u001b[43m(\u001b[49m\u001b[43mfileobj\u001b[49m\u001b[43m,\u001b[49m\u001b[43m \u001b[49m\u001b[43mmode\u001b[49m\u001b[43m,\u001b[49m\u001b[43m \u001b[49m\u001b[43moverwrite\u001b[49m\u001b[43m)\u001b[49m\n\u001b[1;32m    219\u001b[0m \u001b[38;5;28;01melse\u001b[39;00m:\n\u001b[1;32m    220\u001b[0m     \u001b[38;5;28mself\u001b[39m\u001b[38;5;241m.\u001b[39m_open_filelike(fileobj, mode, overwrite)\n",
      "File \u001b[0;32m~/.conda/envs/standard-sirens/lib/python3.11/site-packages/astropy/io/fits/file.py:636\u001b[0m, in \u001b[0;36m_File._open_filename\u001b[0;34m(self, filename, mode, overwrite)\u001b[0m\n\u001b[1;32m    633\u001b[0m ext \u001b[38;5;241m=\u001b[39m os\u001b[38;5;241m.\u001b[39mpath\u001b[38;5;241m.\u001b[39msplitext(\u001b[38;5;28mself\u001b[39m\u001b[38;5;241m.\u001b[39mname)[\u001b[38;5;241m1\u001b[39m]\n\u001b[1;32m    635\u001b[0m \u001b[38;5;28;01mif\u001b[39;00m \u001b[38;5;129;01mnot\u001b[39;00m \u001b[38;5;28mself\u001b[39m\u001b[38;5;241m.\u001b[39m_try_read_compressed(\u001b[38;5;28mself\u001b[39m\u001b[38;5;241m.\u001b[39mname, magic, mode, ext\u001b[38;5;241m=\u001b[39mext):\n\u001b[0;32m--> 636\u001b[0m     \u001b[38;5;28mself\u001b[39m\u001b[38;5;241m.\u001b[39m_file \u001b[38;5;241m=\u001b[39m \u001b[38;5;28;43mopen\u001b[39;49m\u001b[43m(\u001b[49m\u001b[38;5;28;43mself\u001b[39;49m\u001b[38;5;241;43m.\u001b[39;49m\u001b[43mname\u001b[49m\u001b[43m,\u001b[49m\u001b[43m \u001b[49m\u001b[43mIO_FITS_MODES\u001b[49m\u001b[43m[\u001b[49m\u001b[43mmode\u001b[49m\u001b[43m]\u001b[49m\u001b[43m)\u001b[49m\n\u001b[1;32m    637\u001b[0m     \u001b[38;5;28mself\u001b[39m\u001b[38;5;241m.\u001b[39mclose_on_error \u001b[38;5;241m=\u001b[39m \u001b[38;5;28;01mTrue\u001b[39;00m\n\u001b[1;32m    639\u001b[0m \u001b[38;5;66;03m# Make certain we're back at the beginning of the file\u001b[39;00m\n\u001b[1;32m    640\u001b[0m \u001b[38;5;66;03m# BZ2File does not support seek when the file is open for writing, but\u001b[39;00m\n\u001b[1;32m    641\u001b[0m \u001b[38;5;66;03m# when opening a file for write, bz2.BZ2File always truncates anyway.\u001b[39;00m\n",
      "\u001b[0;31mFileNotFoundError\u001b[0m: [Errno 2] No such file or directory: '/global/homes/w/wballard/standard-sirens/ReducedCatalog.fits'"
     ]
    }
   ],
   "source": [
    "h2=fits.open(DIR_CATALOG+'ReducedCatalog.fits',memmap=True)[1].data\n",
    "z2=h[z_column_name]\n",
    "ra2=h[ra_column_name]\n",
    "dec2=h[dec_column_name]\n",
    "zerr2=h[zerr_column_name]\n",
    "pix2=h['hpix1024']"
   ]
  },
  {
   "cell_type": "code",
   "execution_count": 5,
   "metadata": {},
   "outputs": [],
   "source": [
    "transmission_mw=ebv_g*extinction_coeff\n",
    "corrected_flux=flux_g/transmission_mw\n",
    "omag_g=22.5-2.5*np.log10(corrected_flux) #from legacy survey webpage\n",
    "abs_mag=omag_g-dist_mod(z_g)\n",
    "abs_mag_cut=abs_mag<-21.5\n",
    "flux=flux_g[abs_mag_cut]\n",
    "z=z_g[abs_mag_cut]\n",
    "ra=ra_g[abs_mag_cut]\n",
    "dec=dec_g[abs_mag_cut]\n",
    "zerr=zerr_g[abs_mag_cut]\n",
    "pix=pix_g[abs_mag_cut]\n",
    "weight=weight_g[abs_mag_cut]"
   ]
  },
  {
   "cell_type": "code",
   "execution_count": 6,
   "metadata": {},
   "outputs": [],
   "source": [
    "i = np.flipud(np.argsort(pb))\n",
    "sorted_credible_levels = np.cumsum(pb[i])\n",
    "credible_levels = np.empty_like(sorted_credible_levels)\n",
    "credible_levels[i] = sorted_credible_levels\n",
    "\n"
   ]
  },
  {
   "cell_type": "code",
   "execution_count": 7,
   "metadata": {},
   "outputs": [],
   "source": [
    "\n",
    "mask=(credible_levels<=pb_frac)\n",
    "cred_cut=credible_levels[mask]\n",
    "\n",
    "roi_area=np.sum(mask) * hp.nside2pixarea(NSIDE, degrees=True)\n",
    "\n",
    "ramax,decmax=hp.pix2ang(NSIDE,np.argmax(pb),lonlat=True)\n",
    "\n",
    "distmu_avg=np.average(distmu[mask],weights=pb[mask])\n",
    "distsig_avg=np.average(distsigma[mask],weights=pb[mask])\n",
    "\n",
    "\n",
    "\n"
   ]
  },
  {
   "cell_type": "code",
   "execution_count": 8,
   "metadata": {},
   "outputs": [],
   "source": [
    "from math import pi\n",
    "cosmomin=FlatLambdaCDM(H0=H0_min,Om0=Omega_m)\n",
    "cosmomax=FlatLambdaCDM(H0=H0_max,Om0=Omega_m)\n",
    "nsigma=1.65\n",
    "H0_array = np.linspace(H0_min,H0_max,num=101)\n",
    "d_min=distmu_avg-(nsigma*distsig_avg)\n",
    "d_max=distmu_avg+(nsigma*distsig_avg)\n",
    "z_min=max(z_min,z_at_value(cosmomin.luminosity_distance,d_min*u.Mpc,zmin=1e-5,zmax=2,method='bounded'))\n",
    "z_max=min(z_max,z_at_value(cosmomax.luminosity_distance,d_max*u.Mpc,zmin=1e-5,zmax=2,method='bounded'))\n",
    "\n",
    "\n",
    "\n"
   ]
  },
  {
   "cell_type": "code",
   "execution_count": 9,
   "metadata": {},
   "outputs": [
    {
     "name": "stdout",
     "output_type": "stream",
     "text": [
      "Selecting glaxies in pixels sorted by PROB value...\n"
     ]
    }
   ],
   "source": [
    "idx_sort = np.argsort(pb)\n",
    "idx_sort_up = list(reversed(idx_sort))\n",
    "sum = 0.\n",
    "id = 0\n",
    "print(\"Selecting glaxies in pixels sorted by PROB value...\")\n",
    "while sum<pb_frac:\n",
    "    this_idx = idx_sort_up[id]\n",
    "    sum = sum+pb[this_idx]\n",
    "    id = id+1\n",
    "idx_sort_cut = idx_sort_up[:id]"
   ]
  },
  {
   "cell_type": "code",
   "execution_count": 10,
   "metadata": {},
   "outputs": [
    {
     "name": "stdout",
     "output_type": "stream",
     "text": [
      "(array([1125596, 1125597, 1125598, ..., 4416966, 4416976, 4416982]),)\n"
     ]
    }
   ],
   "source": [
    "mask_z = np.logical_and((z>z_min),(z<z_max))\n",
    "ra_glx=ra[mask_z]\n",
    "dec_glx=dec[mask_z]\n",
    "z_glx=z[mask_z]\n",
    "zerr_glx=zerr[mask_z]\n",
    "pix_glx=pix[mask_z]\n",
    "weight_glx=weight[mask_z]/weight[mask_z].sum()\n",
    "in_region=np.where(np.isin(pix_glx,idx_sort_cut))\n",
    "print(in_region)\n"
   ]
  },
  {
   "cell_type": "code",
   "execution_count": 11,
   "metadata": {},
   "outputs": [
    {
     "name": "stdout",
     "output_type": "stream",
     "text": [
      "There are  8383  galaxies within  90.0 %, and z between  0.03881960508712149 redshift 0.32294708140538037 redshift\n"
     ]
    }
   ],
   "source": [
    "\n",
    "z_gal = z_glx[in_region]\n",
    "zerr_gal = zerr_glx[in_region]\n",
    "ra_gal = ra_glx[in_region] \n",
    "dec_gal = dec_glx[in_region] \n",
    "pix_gal = pix_glx[in_region]\n",
    "weight_gal=weight_glx[in_region]\n",
    "\n",
    "pb_gal =  np.zeros_like(ra_gal)\n",
    "distmu_gal =  np.zeros_like(ra_gal)\n",
    "distsigma_gal =  np.zeros_like(ra_gal)\n",
    "distnorm_gal = np.zeros_like(ra_gal)\n",
    "\n",
    "for i in idx_sort_cut:\n",
    "    this_pix=(pix_gal==i)\n",
    "    pb_gal[this_pix]=pb[i]\n",
    "    distmu_gal[this_pix]=distmu[i]\n",
    "    distsigma_gal[this_pix]=distsigma[i]\n",
    "    distnorm_gal[this_pix]=distnorm[i]\n",
    "\n",
    "ngals = ra_gal.shape[0]\n",
    "print(\"There are \", str(ngals), \" galaxies within \", str(pb_frac*100.), \"%, and z between \", z_min, z_max)"
   ]
  },
  {
   "cell_type": "code",
   "execution_count": 12,
   "metadata": {},
   "outputs": [],
   "source": [
    "import posterior_utils as pos\n",
    "zarr = np.linspace(z_min,z_max,num=1+2**10)\n",
    "gzarr = np.zeros((ngals,zarr.size))\n",
    "z_norm = np.linspace(z_min,z_max,num=200)\n",
    "for i in range(ngals):\n",
    "    g = pos.gauss(z_gal[i],zerr_gal[i],zarr)\n",
    "    g_norm = pos.gauss(z_gal[i],zerr_gal[i],z_norm)\n",
    "    norm = 1.e-300+np.trapz(g_norm,z_norm)\n",
    "    gzarr[i] = g/norm"
   ]
  },
  {
   "cell_type": "code",
   "execution_count": 14,
   "metadata": {},
   "outputs": [],
   "source": [
    "\n",
    "def lnpost(H0value):\n",
    "        return pos.lnprob(H0value, z_gal, zerr_gal, weight_gal, pb_gal, distmu_gal, distsigma_gal, distnorm_gal, pixarea, H0_min, H0_max, z_min, z_max, zerr_use=True, cosmo_use=True ,omegam=Omega_m,gauss_z_array=gzarr,z_s=zarr,hpix=pix_gal,d50=638,use_zPDF=False,bias_marginalize=False,bias_mean=0, z_bias_bins_edges=0)\n",
    "lnposterior=[]\n",
    "for H0value in H0_array:\n",
    "        lnp=lnpost(H0value)\n",
    "        lnposterior.append(lnp)\n",
    "\n"
   ]
  },
  {
   "cell_type": "code",
   "execution_count": 15,
   "metadata": {},
   "outputs": [
    {
     "name": "stderr",
     "output_type": "stream",
     "text": [
      "/global/u2/w/wballard/standard-sirens/posterior_utils.py:80: RuntimeWarning: divide by zero encountered in arctanh\n",
      "  x = np.arctanh(x)\n"
     ]
    },
    {
     "name": "stdout",
     "output_type": "stream",
     "text": [
      "Applying blinding factor. Saving value on  /global/homes/w/wballard/standard-sirens//blinding_file.p\n"
     ]
    },
    {
     "data": {
      "image/png": "[encoded data removed]",
      "text/plain": [
       "<Figure size 640x480 with 1 Axes>"
      ]
     },
     "metadata": {},
     "output_type": "display_data"
    }
   ],
   "source": [
    "import matplotlib.pyplot as plt\n",
    "n_H0_maxlike=[]\n",
    "n_H0_err_p=[]\n",
    "n_H0_err_m=[]\n",
    "n_H0_median=[]\n",
    "cl=0.68\n",
    "DIR_OUT='/global/homes/w/wballard/standard-sirens/'\n",
    "outlabel='H0n_output'\n",
    "posterior=np.exp(lnposterior)\n",
    "#Output stuff\n",
    "blindpath = DIR_OUT+\"/blinding_file.p\"\n",
    "H0_blinded_array=pos.make_blind(H0_array,H0_min,H0_max,blindpath)\n",
    "print(\"Applying blinding factor. Saving value on \", blindpath)\n",
    "H0_array_out = H0_blinded_array\n",
    "H0_maxlike, H0_err_p , H0_err_m  = pos.cl_range(H0_array_out,posterior,cl=cl)\n",
    "H0_median=pos.percentile(0.50, posterior, H0_array_out)\n",
    "n_H0_maxlike.append(H0_maxlike)\n",
    "n_H0_err_p.append(H0_err_p)\n",
    "n_H0_err_m.append(H0_err_m)\n",
    "n_H0_median.append(H0_median)\n",
    "header = \"H0_Blinded\"\n",
    "fmt = \"%10.5f\"\n",
    "\n",
    "\n",
    "norm = 1.e-300+np.trapz(posterior, H0_array_out)\n",
    "posterior = posterior/norm \n",
    "dl=int(distmu_avg)\n",
    "plt.plot(H0_array_out, posterior, label=\"Event\"+str(1)+\": \"+str(dl)+\" Mpc\")\n",
    "fmt=fmt+\" %10.6e\"\n",
    "header = header+\" Posterior_\"+str(1)\n",
    "\n",
    "cols = np.column_stack((H0_array_out,posterior))\n",
    "header = header.split()[0]+\" Posterior\"\n",
    "plt.clf()\n",
    "dl=int(distmu_avg)\n",
    "plt.plot(H0_array_out, posterior, color='k', label=str(dl)+\" Mpc\")\n",
    "\n",
    "plt.xlabel('$H_0$ [km/s/Mpc]',fontsize=20)\n",
    "plt.ylabel('$p$',fontsize=20)\n",
    "plt.title(outlabel)\n",
    "plt.tight_layout()\n",
    "\n",
    "plt.savefig(DIR_OUT+outlabel+'_posterior.png')"
   ]
  },
  {
   "cell_type": "code",
   "execution_count": null,
   "metadata": {},
   "outputs": [],
   "source": []
  }
 ],
 "metadata": {
  "kernelspec": {
   "display_name": "StandardSirens",
   "language": "python",
   "name": "standard-sirens"
  },
  "language_info": {
   "codemirror_mode": {
    "name": "ipython",
    "version": 3
   },
   "file_extension": ".py",
   "mimetype": "text/x-python",
   "name": "python",
   "nbconvert_exporter": "python",
   "pygments_lexer": "ipython3",
   "version": "3.11.3"
  },
  "vscode": {
   "interpreter": {
    "hash": "9c854fdded3999b92c67e8e50b4a5d22ed4d965eb03cdff4163f85baecb93b52"
   }
  }
 },
 "nbformat": 4,
 "nbformat_minor": 4
}
