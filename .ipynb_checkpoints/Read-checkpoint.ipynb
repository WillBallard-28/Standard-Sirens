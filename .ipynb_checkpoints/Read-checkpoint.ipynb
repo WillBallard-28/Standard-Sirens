{
 "cells": [
  {
   "cell_type": "code",
   "execution_count": 1,
   "id": "6d338af3-ce3a-4c98-97b1-0ebe005bef3c",
   "metadata": {},
   "outputs": [
    {
     "name": "stdout",
     "output_type": "stream",
     "text": [
      "Reading in fits data\n",
      "Done writing reducedTableWithBGS.fits\n"
     ]
    }
   ],
   "source": [
    "import numpy as np\n",
    "from astropy.io import fits\n",
    "from math import pi\n",
    "import sys\n",
    "import healpy as hp\n",
    "from astropy.table import Table\n",
    "sys.stderr=open('error.log','w',buffering=1)\n",
    "\n",
    "z_min=0.001\n",
    "z_max=0.5\n",
    "njobs=10\n",
    "systerr=0.001\n",
    "outlabel='reducedTableWithBGS.fits'\n",
    "\n",
    "ra_column_name='TARGET_RA'\n",
    "dec_column_name='TARGET_DEC'\n",
    "z_column_name='Z'\n",
    "zerr_column_name='ZERR'\n",
    "mag_column_name='OMAG'\n",
    "absmag_column='AMAG'\n",
    "deltachi2_column='DELTACHI2'\n",
    "flux_column_name='FLUX_R'\n",
    "\n",
    "DIR_CATALOG='/global/cfs/cdirs/desi/spectro/redux/iron/zcatalog/'\n",
    "glxcat='zall-tilecumulative-iron.fits'\n",
    "\n",
    "\n",
    "NSIDE=1024\n",
    "nevents=1\n",
    "nside_cat=8\n",
    "\n",
    "\n",
    "filename = DIR_CATALOG+glxcat\n",
    "hdul= fits.open(filename,memmap=True)\n",
    "h=hdul[1].data\n",
    "\n",
    "print(\"Reading in fits data\")\n",
    "deltachi2=h[deltachi2_column]\n",
    "mask_deltachi=deltachi2>40\n",
    "zwarn=h['ZWARN']\n",
    "zwarn_mask=(zwarn==0)\n",
    "spectype=h['SPECTYPE']\n",
    "spectype_mask=(spectype=='GALAXY')\n",
    "z=h[z_column_name]\n",
    "mask_z=np.logical_and(z>z_min, z<z_max)\n",
    "bgs=h['BGS_TARGET']\n",
    "bgs_mask=True\n",
    "\n",
    "ra_g=h[ra_column_name][mask_z & mask_deltachi & zwarn_mask & spectype_mask & bgs_mask]\n",
    "dec_g=h[dec_column_name][mask_z & mask_deltachi & zwarn_mask & spectype_mask & bgs_mask]\n",
    "z=z[mask_z & mask_deltachi & zwarn_mask & spectype_mask & bgs_mask]\n",
    "zerr_g=h[zerr_column_name][mask_z & mask_deltachi & zwarn_mask & spectype_mask & bgs_mask]\n",
    "flux_g=h[flux_column_name][mask_z & mask_deltachi & zwarn_mask & spectype_mask & bgs_mask]\n",
    "ebv_g=h['EBV'][mask_z & mask_deltachi & zwarn_mask & spectype_mask & bgs_mask]\n",
    "\n",
    "\n",
    "\n",
    "\n",
    "hdul.close()\n",
    "\n",
    "pix_g= hp.pixelfunc.ang2pix(NSIDE, ra_g, dec_g,lonlat=True)    \n",
    "\n",
    "t=Table([ra_g,dec_g,z,zerr_g,pix_g,flux_g,ebv_g],\n",
    "        names=('TARGET_RA','TARGET_DEC','Z','ZERR', 'hpix1024','FLUX_R','EBV'))\n",
    "t.write(outlabel,format='fits',overwrite=True)\n",
    "print('Done writing '+outlabel)"
   ]
  },
  {
   "cell_type": "code",
   "execution_count": null,
   "id": "8797c06a-3a95-4d76-bcae-94888895dfb6",
   "metadata": {},
   "outputs": [],
   "source": []
  }
 ],
 "metadata": {
  "kernelspec": {
   "display_name": "StandardSirens",
   "language": "python",
   "name": "standard-sirens"
  },
  "language_info": {
   "codemirror_mode": {
    "name": "ipython",
    "version": 3
   },
   "file_extension": ".py",
   "mimetype": "text/x-python",
   "name": "python",
   "nbconvert_exporter": "python",
   "pygments_lexer": "ipython3",
   "version": "3.11.3"
  }
 },
 "nbformat": 4,
 "nbformat_minor": 5
}
